{
 "cells": [
  {
   "cell_type": "markdown",
   "metadata": {},
   "source": [
    "# WeatherPy \n",
    "\n",
    "#### Observations:  Among the 560 Cities observed in this analysis of weather, the following are observations:  1.  Current temperatures from both hemispheres appear to correlate with the latitude in that the lower the latitude, the higher the temperature. 2.  This also showed to be the case with the Maximum temperatures recorded in this analysis with those cities located in the Northern Hemisphere, However, the correlation between Maximum temperatures and latitude in the cities observed in the Southern Hemisphere was not strong. 3.  Humidity and latitude did not appear to have a strong correlation in either hemisphere.  Please see final_cities_weather.csv for the data on the 560 observed cities.\n"
   ]
  },
  {
   "cell_type": "code",
   "execution_count": 2,
   "metadata": {
    "scrolled": true
   },
   "outputs": [],
   "source": [
    "# Dependencies and Setup\n",
    "import matplotlib.pyplot as plt\n",
    "import pandas as pd\n",
    "import numpy as np\n",
    "import requests\n",
    "import time\n",
    "from scipy.stats import linregress\n",
    "\n",
    "# Import API key\n",
    "from new_api_keys import api_key\n",
    "\n",
    "# Incorporated citipy to determine city based on latitude and longitude\n",
    "from citipy import citipy\n",
    "\n",
    "# Output File (CSV)\n",
    "output_data_file = \"output_data/cities.csv\"\n",
    "\n",
    "# Range of latitudes and longitudes\n",
    "lat_range = (-90, 90)\n",
    "lng_range = (-180, 180)\n"
   ]
  },
  {
   "cell_type": "markdown",
   "metadata": {},
   "source": [
    "## Generate Cities List"
   ]
  },
  {
   "cell_type": "code",
   "execution_count": 3,
   "metadata": {},
   "outputs": [
    {
     "data": {
      "text/plain": [
       "613"
      ]
     },
     "execution_count": 3,
     "metadata": {},
     "output_type": "execute_result"
    }
   ],
   "source": [
    "# List for holding lat_lngs and cities\n",
    "lat_lngs = []\n",
    "cities = []\n",
    "\n",
    "# Create a set of random lat and lng combinations\n",
    "lats = np.random.uniform(lat_range[0], lat_range[1], size=1500)\n",
    "lngs = np.random.uniform(lng_range[0], lng_range[1], size=1500)\n",
    "lat_lngs = zip(lats, lngs)\n",
    "\n",
    "# Identify nearest city for each lat, lng combination\n",
    "for lat_lng in lat_lngs:\n",
    "    city = citipy.nearest_city(lat_lng[0], lat_lng[1]).city_name\n",
    "    \n",
    "    # If the city is unique, then add it to a our cities list\n",
    "    if city not in cities:\n",
    "        cities.append(city)\n",
    "    \n",
    "\n",
    "# Print the city count to confirm sufficient count\n",
    "len(cities)\n",
    "#print(cities)\n",
    "\n"
   ]
  },
  {
   "cell_type": "code",
   "execution_count": 4,
   "metadata": {},
   "outputs": [
    {
     "data": {
      "text/plain": [
       "{'coord': {'lon': -118.2437, 'lat': 34.0522},\n",
       " 'weather': [{'id': 701,\n",
       "   'main': 'Mist',\n",
       "   'description': 'mist',\n",
       "   'icon': '50n'}],\n",
       " 'base': 'stations',\n",
       " 'main': {'temp': 51.15,\n",
       "  'feels_like': 50.14,\n",
       "  'temp_min': 46.71,\n",
       "  'temp_max': 55.76,\n",
       "  'pressure': 1014,\n",
       "  'humidity': 89},\n",
       " 'visibility': 9656,\n",
       " 'wind': {'speed': 0, 'deg': 0},\n",
       " 'clouds': {'all': 0},\n",
       " 'dt': 1643719200,\n",
       " 'sys': {'type': 2,\n",
       "  'id': 2009067,\n",
       "  'country': 'US',\n",
       "  'sunrise': 1643727001,\n",
       "  'sunset': 1643764983},\n",
       " 'timezone': -28800,\n",
       " 'id': 5368361,\n",
       " 'name': 'Los Angeles',\n",
       " 'cod': 200}"
      ]
     },
     "execution_count": 4,
     "metadata": {},
     "output_type": "execute_result"
    }
   ],
   "source": [
    "requests.get(f\"http://api.openweathermap.org/data/2.5/weather?appid={api_key}&units=imperial&q=los+angeles\").json()"
   ]
  },
  {
   "cell_type": "markdown",
   "metadata": {},
   "source": [
    "### Perform API Calls\n",
    "* Perform a weather check on each city using a series of successive API calls.\n",
    "* Include a print log of each city as it'sbeing processed (with the city number and city name).\n",
    "\n",
    "> **HINT:** The OpenWeatherMap API only allows 60 calls per minute under their free plan. Try using `time.sleep(60)` after each set of 50 cities to avoid API errors due to large calls."
   ]
  },
  {
   "cell_type": "code",
   "execution_count": 5,
   "metadata": {
    "scrolled": true
   },
   "outputs": [
    {
     "name": "stdout",
     "output_type": "stream",
     "text": [
      "'coord'\n",
      "'coord'\n",
      "'coord'\n",
      "'coord'\n",
      "'coord'\n",
      "'coord'\n",
      "'coord'\n",
      "'coord'\n",
      "'coord'\n",
      "'coord'\n",
      "'coord'\n",
      "'coord'\n",
      "'coord'\n",
      "'coord'\n",
      "'coord'\n",
      "'coord'\n",
      "'coord'\n",
      "'coord'\n",
      "'coord'\n",
      "'coord'\n",
      "'coord'\n",
      "'coord'\n",
      "'coord'\n",
      "'coord'\n",
      "'coord'\n",
      "'coord'\n",
      "'coord'\n",
      "'coord'\n",
      "'coord'\n",
      "'coord'\n",
      "'coord'\n",
      "'coord'\n",
      "'coord'\n",
      "'coord'\n",
      "'coord'\n",
      "'coord'\n",
      "'coord'\n",
      "'coord'\n",
      "'coord'\n",
      "'coord'\n",
      "'coord'\n",
      "'coord'\n",
      "'coord'\n",
      "'coord'\n",
      "'coord'\n",
      "'coord'\n",
      "'coord'\n",
      "'coord'\n",
      "'coord'\n",
      "'coord'\n",
      "'coord'\n",
      "'coord'\n",
      "'coord'\n"
     ]
    }
   ],
   "source": [
    "# Save config information.\n",
    "url = \"http://api.openweathermap.org/data/2.5/weather?\"\n",
    "units = \"imperial\"\n",
    "\n",
    "# Build partial query URL\n",
    "query_url = f\"{url}appid={api_key}&units={units}&q=\"\n",
    "\n",
    "# set up lists to hold reponse info\n",
    "lat = []\n",
    "temp = []\n",
    "lon = []\n",
    "humidity = []\n",
    "temp_max = []\n",
    "clouds = []\n",
    "country = []\n",
    "city_id=[]\n",
    "date = []\n",
    "wind = []\n",
    "all_rows=[]\n",
    " \n",
    "\n",
    "# Loop through the list of cities and perform a request for data on each\n",
    "for city in cities:\n",
    "    if len(all_rows) %10== 0:\n",
    "        time.sleep(2)\n",
    "    response = requests.get(query_url + city).json()\n",
    "    try:\n",
    "\n",
    "        temp={\n",
    "            \"name\":city,\n",
    "            \"lat\":response['coord']['lat'],\n",
    "            \"lon\":response['coord']['lon'],\n",
    "            \"temp\":response['main']['temp'],\n",
    "            \"humidity\":response['main']['humidity'],\n",
    "            \"temp_max\":response['main']['temp_max'],\n",
    "            \"clouds\":response['clouds']['all'],\n",
    "            \"wind\":response['wind']['speed'],\n",
    "            \"country\":response['sys']['country'],\n",
    "            \"city_id\":response['id'],\n",
    "            \"date\":response['dt']\n",
    "                \n",
    "        }\n",
    "        all_rows.append(temp)\n",
    "\n",
    "    except Exception as e:\n",
    "        print(e)\n",
    "    \n"
   ]
  },
  {
   "cell_type": "code",
   "execution_count": 6,
   "metadata": {},
   "outputs": [
    {
     "data": {
      "text/html": [
       "<div>\n",
       "<style scoped>\n",
       "    .dataframe tbody tr th:only-of-type {\n",
       "        vertical-align: middle;\n",
       "    }\n",
       "\n",
       "    .dataframe tbody tr th {\n",
       "        vertical-align: top;\n",
       "    }\n",
       "\n",
       "    .dataframe thead th {\n",
       "        text-align: right;\n",
       "    }\n",
       "</style>\n",
       "<table border=\"1\" class=\"dataframe\">\n",
       "  <thead>\n",
       "    <tr style=\"text-align: right;\">\n",
       "      <th></th>\n",
       "      <th>name</th>\n",
       "      <th>lat</th>\n",
       "      <th>lon</th>\n",
       "      <th>temp</th>\n",
       "      <th>humidity</th>\n",
       "      <th>temp_max</th>\n",
       "      <th>clouds</th>\n",
       "      <th>wind</th>\n",
       "      <th>country</th>\n",
       "      <th>city_id</th>\n",
       "      <th>date</th>\n",
       "    </tr>\n",
       "  </thead>\n",
       "  <tbody>\n",
       "    <tr>\n",
       "      <th>0</th>\n",
       "      <td>rikitea</td>\n",
       "      <td>-23.1203</td>\n",
       "      <td>-134.9692</td>\n",
       "      <td>77.83</td>\n",
       "      <td>68</td>\n",
       "      <td>77.83</td>\n",
       "      <td>87</td>\n",
       "      <td>7.58</td>\n",
       "      <td>PF</td>\n",
       "      <td>4030556</td>\n",
       "      <td>1643719764</td>\n",
       "    </tr>\n",
       "    <tr>\n",
       "      <th>1</th>\n",
       "      <td>arraial do cabo</td>\n",
       "      <td>-22.9661</td>\n",
       "      <td>-42.0278</td>\n",
       "      <td>82.26</td>\n",
       "      <td>78</td>\n",
       "      <td>82.36</td>\n",
       "      <td>75</td>\n",
       "      <td>3.44</td>\n",
       "      <td>BR</td>\n",
       "      <td>3471451</td>\n",
       "      <td>1643719765</td>\n",
       "    </tr>\n",
       "    <tr>\n",
       "      <th>2</th>\n",
       "      <td>busselton</td>\n",
       "      <td>-33.6500</td>\n",
       "      <td>115.3333</td>\n",
       "      <td>68.04</td>\n",
       "      <td>42</td>\n",
       "      <td>68.04</td>\n",
       "      <td>0</td>\n",
       "      <td>18.45</td>\n",
       "      <td>AU</td>\n",
       "      <td>2075265</td>\n",
       "      <td>1643719766</td>\n",
       "    </tr>\n",
       "    <tr>\n",
       "      <th>3</th>\n",
       "      <td>yellowknife</td>\n",
       "      <td>62.4560</td>\n",
       "      <td>-114.3525</td>\n",
       "      <td>-23.15</td>\n",
       "      <td>76</td>\n",
       "      <td>-22.45</td>\n",
       "      <td>20</td>\n",
       "      <td>9.22</td>\n",
       "      <td>CA</td>\n",
       "      <td>6185377</td>\n",
       "      <td>1643719727</td>\n",
       "    </tr>\n",
       "    <tr>\n",
       "      <th>4</th>\n",
       "      <td>hasaki</td>\n",
       "      <td>35.7333</td>\n",
       "      <td>140.8333</td>\n",
       "      <td>32.40</td>\n",
       "      <td>48</td>\n",
       "      <td>32.40</td>\n",
       "      <td>1</td>\n",
       "      <td>15.39</td>\n",
       "      <td>JP</td>\n",
       "      <td>2112802</td>\n",
       "      <td>1643719767</td>\n",
       "    </tr>\n",
       "    <tr>\n",
       "      <th>...</th>\n",
       "      <td>...</td>\n",
       "      <td>...</td>\n",
       "      <td>...</td>\n",
       "      <td>...</td>\n",
       "      <td>...</td>\n",
       "      <td>...</td>\n",
       "      <td>...</td>\n",
       "      <td>...</td>\n",
       "      <td>...</td>\n",
       "      <td>...</td>\n",
       "      <td>...</td>\n",
       "    </tr>\n",
       "    <tr>\n",
       "      <th>555</th>\n",
       "      <td>puerto escondido</td>\n",
       "      <td>15.8500</td>\n",
       "      <td>-97.0667</td>\n",
       "      <td>70.63</td>\n",
       "      <td>88</td>\n",
       "      <td>70.63</td>\n",
       "      <td>0</td>\n",
       "      <td>4.61</td>\n",
       "      <td>MX</td>\n",
       "      <td>3520994</td>\n",
       "      <td>1643720071</td>\n",
       "    </tr>\n",
       "    <tr>\n",
       "      <th>556</th>\n",
       "      <td>salta</td>\n",
       "      <td>-24.7859</td>\n",
       "      <td>-65.4117</td>\n",
       "      <td>68.20</td>\n",
       "      <td>75</td>\n",
       "      <td>70.57</td>\n",
       "      <td>40</td>\n",
       "      <td>3.44</td>\n",
       "      <td>AR</td>\n",
       "      <td>3838233</td>\n",
       "      <td>1643719832</td>\n",
       "    </tr>\n",
       "    <tr>\n",
       "      <th>557</th>\n",
       "      <td>egvekinot</td>\n",
       "      <td>66.3167</td>\n",
       "      <td>-179.1667</td>\n",
       "      <td>-0.81</td>\n",
       "      <td>67</td>\n",
       "      <td>-0.81</td>\n",
       "      <td>100</td>\n",
       "      <td>14.72</td>\n",
       "      <td>RU</td>\n",
       "      <td>4031742</td>\n",
       "      <td>1643720072</td>\n",
       "    </tr>\n",
       "    <tr>\n",
       "      <th>558</th>\n",
       "      <td>nanakuli</td>\n",
       "      <td>21.3906</td>\n",
       "      <td>-158.1547</td>\n",
       "      <td>68.04</td>\n",
       "      <td>88</td>\n",
       "      <td>73.35</td>\n",
       "      <td>0</td>\n",
       "      <td>3.44</td>\n",
       "      <td>US</td>\n",
       "      <td>5851349</td>\n",
       "      <td>1643720072</td>\n",
       "    </tr>\n",
       "    <tr>\n",
       "      <th>559</th>\n",
       "      <td>rockhampton</td>\n",
       "      <td>-23.3833</td>\n",
       "      <td>150.5000</td>\n",
       "      <td>80.49</td>\n",
       "      <td>78</td>\n",
       "      <td>80.49</td>\n",
       "      <td>100</td>\n",
       "      <td>9.22</td>\n",
       "      <td>AU</td>\n",
       "      <td>2151437</td>\n",
       "      <td>1643719924</td>\n",
       "    </tr>\n",
       "  </tbody>\n",
       "</table>\n",
       "<p>560 rows × 11 columns</p>\n",
       "</div>"
      ],
      "text/plain": [
       "                 name      lat       lon   temp  humidity  temp_max  clouds  \\\n",
       "0             rikitea -23.1203 -134.9692  77.83        68     77.83      87   \n",
       "1     arraial do cabo -22.9661  -42.0278  82.26        78     82.36      75   \n",
       "2           busselton -33.6500  115.3333  68.04        42     68.04       0   \n",
       "3         yellowknife  62.4560 -114.3525 -23.15        76    -22.45      20   \n",
       "4              hasaki  35.7333  140.8333  32.40        48     32.40       1   \n",
       "..                ...      ...       ...    ...       ...       ...     ...   \n",
       "555  puerto escondido  15.8500  -97.0667  70.63        88     70.63       0   \n",
       "556             salta -24.7859  -65.4117  68.20        75     70.57      40   \n",
       "557         egvekinot  66.3167 -179.1667  -0.81        67     -0.81     100   \n",
       "558          nanakuli  21.3906 -158.1547  68.04        88     73.35       0   \n",
       "559       rockhampton -23.3833  150.5000  80.49        78     80.49     100   \n",
       "\n",
       "      wind country  city_id        date  \n",
       "0     7.58      PF  4030556  1643719764  \n",
       "1     3.44      BR  3471451  1643719765  \n",
       "2    18.45      AU  2075265  1643719766  \n",
       "3     9.22      CA  6185377  1643719727  \n",
       "4    15.39      JP  2112802  1643719767  \n",
       "..     ...     ...      ...         ...  \n",
       "555   4.61      MX  3520994  1643720071  \n",
       "556   3.44      AR  3838233  1643719832  \n",
       "557  14.72      RU  4031742  1643720072  \n",
       "558   3.44      US  5851349  1643720072  \n",
       "559   9.22      AU  2151437  1643719924  \n",
       "\n",
       "[560 rows x 11 columns]"
      ]
     },
     "execution_count": 6,
     "metadata": {},
     "output_type": "execute_result"
    }
   ],
   "source": [
    "pd.DataFrame(all_rows)"
   ]
  },
  {
   "cell_type": "markdown",
   "metadata": {},
   "source": [
    "### Convert Raw Data to DataFrame\n",
    "* Export the city data into a .csv.\n",
    "* Display the DataFrame"
   ]
  },
  {
   "cell_type": "code",
   "execution_count": 7,
   "metadata": {},
   "outputs": [
    {
     "data": {
      "text/html": [
       "<div>\n",
       "<style scoped>\n",
       "    .dataframe tbody tr th:only-of-type {\n",
       "        vertical-align: middle;\n",
       "    }\n",
       "\n",
       "    .dataframe tbody tr th {\n",
       "        vertical-align: top;\n",
       "    }\n",
       "\n",
       "    .dataframe thead th {\n",
       "        text-align: right;\n",
       "    }\n",
       "</style>\n",
       "<table border=\"1\" class=\"dataframe\">\n",
       "  <thead>\n",
       "    <tr style=\"text-align: right;\">\n",
       "      <th></th>\n",
       "      <th>name</th>\n",
       "      <th>lat</th>\n",
       "      <th>lon</th>\n",
       "      <th>temp</th>\n",
       "      <th>humidity</th>\n",
       "      <th>temp_max</th>\n",
       "      <th>clouds</th>\n",
       "      <th>wind</th>\n",
       "      <th>country</th>\n",
       "      <th>city_id</th>\n",
       "      <th>date</th>\n",
       "    </tr>\n",
       "  </thead>\n",
       "  <tbody>\n",
       "    <tr>\n",
       "      <th>0</th>\n",
       "      <td>rikitea</td>\n",
       "      <td>-23.1203</td>\n",
       "      <td>-134.9692</td>\n",
       "      <td>77.83</td>\n",
       "      <td>68</td>\n",
       "      <td>77.83</td>\n",
       "      <td>87</td>\n",
       "      <td>7.58</td>\n",
       "      <td>PF</td>\n",
       "      <td>4030556</td>\n",
       "      <td>1643719764</td>\n",
       "    </tr>\n",
       "    <tr>\n",
       "      <th>1</th>\n",
       "      <td>arraial do cabo</td>\n",
       "      <td>-22.9661</td>\n",
       "      <td>-42.0278</td>\n",
       "      <td>82.26</td>\n",
       "      <td>78</td>\n",
       "      <td>82.36</td>\n",
       "      <td>75</td>\n",
       "      <td>3.44</td>\n",
       "      <td>BR</td>\n",
       "      <td>3471451</td>\n",
       "      <td>1643719765</td>\n",
       "    </tr>\n",
       "    <tr>\n",
       "      <th>2</th>\n",
       "      <td>busselton</td>\n",
       "      <td>-33.6500</td>\n",
       "      <td>115.3333</td>\n",
       "      <td>68.04</td>\n",
       "      <td>42</td>\n",
       "      <td>68.04</td>\n",
       "      <td>0</td>\n",
       "      <td>18.45</td>\n",
       "      <td>AU</td>\n",
       "      <td>2075265</td>\n",
       "      <td>1643719766</td>\n",
       "    </tr>\n",
       "    <tr>\n",
       "      <th>3</th>\n",
       "      <td>yellowknife</td>\n",
       "      <td>62.4560</td>\n",
       "      <td>-114.3525</td>\n",
       "      <td>-23.15</td>\n",
       "      <td>76</td>\n",
       "      <td>-22.45</td>\n",
       "      <td>20</td>\n",
       "      <td>9.22</td>\n",
       "      <td>CA</td>\n",
       "      <td>6185377</td>\n",
       "      <td>1643719727</td>\n",
       "    </tr>\n",
       "    <tr>\n",
       "      <th>4</th>\n",
       "      <td>hasaki</td>\n",
       "      <td>35.7333</td>\n",
       "      <td>140.8333</td>\n",
       "      <td>32.40</td>\n",
       "      <td>48</td>\n",
       "      <td>32.40</td>\n",
       "      <td>1</td>\n",
       "      <td>15.39</td>\n",
       "      <td>JP</td>\n",
       "      <td>2112802</td>\n",
       "      <td>1643719767</td>\n",
       "    </tr>\n",
       "    <tr>\n",
       "      <th>...</th>\n",
       "      <td>...</td>\n",
       "      <td>...</td>\n",
       "      <td>...</td>\n",
       "      <td>...</td>\n",
       "      <td>...</td>\n",
       "      <td>...</td>\n",
       "      <td>...</td>\n",
       "      <td>...</td>\n",
       "      <td>...</td>\n",
       "      <td>...</td>\n",
       "      <td>...</td>\n",
       "    </tr>\n",
       "    <tr>\n",
       "      <th>555</th>\n",
       "      <td>puerto escondido</td>\n",
       "      <td>15.8500</td>\n",
       "      <td>-97.0667</td>\n",
       "      <td>70.63</td>\n",
       "      <td>88</td>\n",
       "      <td>70.63</td>\n",
       "      <td>0</td>\n",
       "      <td>4.61</td>\n",
       "      <td>MX</td>\n",
       "      <td>3520994</td>\n",
       "      <td>1643720071</td>\n",
       "    </tr>\n",
       "    <tr>\n",
       "      <th>556</th>\n",
       "      <td>salta</td>\n",
       "      <td>-24.7859</td>\n",
       "      <td>-65.4117</td>\n",
       "      <td>68.20</td>\n",
       "      <td>75</td>\n",
       "      <td>70.57</td>\n",
       "      <td>40</td>\n",
       "      <td>3.44</td>\n",
       "      <td>AR</td>\n",
       "      <td>3838233</td>\n",
       "      <td>1643719832</td>\n",
       "    </tr>\n",
       "    <tr>\n",
       "      <th>557</th>\n",
       "      <td>egvekinot</td>\n",
       "      <td>66.3167</td>\n",
       "      <td>-179.1667</td>\n",
       "      <td>-0.81</td>\n",
       "      <td>67</td>\n",
       "      <td>-0.81</td>\n",
       "      <td>100</td>\n",
       "      <td>14.72</td>\n",
       "      <td>RU</td>\n",
       "      <td>4031742</td>\n",
       "      <td>1643720072</td>\n",
       "    </tr>\n",
       "    <tr>\n",
       "      <th>558</th>\n",
       "      <td>nanakuli</td>\n",
       "      <td>21.3906</td>\n",
       "      <td>-158.1547</td>\n",
       "      <td>68.04</td>\n",
       "      <td>88</td>\n",
       "      <td>73.35</td>\n",
       "      <td>0</td>\n",
       "      <td>3.44</td>\n",
       "      <td>US</td>\n",
       "      <td>5851349</td>\n",
       "      <td>1643720072</td>\n",
       "    </tr>\n",
       "    <tr>\n",
       "      <th>559</th>\n",
       "      <td>rockhampton</td>\n",
       "      <td>-23.3833</td>\n",
       "      <td>150.5000</td>\n",
       "      <td>80.49</td>\n",
       "      <td>78</td>\n",
       "      <td>80.49</td>\n",
       "      <td>100</td>\n",
       "      <td>9.22</td>\n",
       "      <td>AU</td>\n",
       "      <td>2151437</td>\n",
       "      <td>1643719924</td>\n",
       "    </tr>\n",
       "  </tbody>\n",
       "</table>\n",
       "<p>560 rows × 11 columns</p>\n",
       "</div>"
      ],
      "text/plain": [
       "                 name      lat       lon   temp  humidity  temp_max  clouds  \\\n",
       "0             rikitea -23.1203 -134.9692  77.83        68     77.83      87   \n",
       "1     arraial do cabo -22.9661  -42.0278  82.26        78     82.36      75   \n",
       "2           busselton -33.6500  115.3333  68.04        42     68.04       0   \n",
       "3         yellowknife  62.4560 -114.3525 -23.15        76    -22.45      20   \n",
       "4              hasaki  35.7333  140.8333  32.40        48     32.40       1   \n",
       "..                ...      ...       ...    ...       ...       ...     ...   \n",
       "555  puerto escondido  15.8500  -97.0667  70.63        88     70.63       0   \n",
       "556             salta -24.7859  -65.4117  68.20        75     70.57      40   \n",
       "557         egvekinot  66.3167 -179.1667  -0.81        67     -0.81     100   \n",
       "558          nanakuli  21.3906 -158.1547  68.04        88     73.35       0   \n",
       "559       rockhampton -23.3833  150.5000  80.49        78     80.49     100   \n",
       "\n",
       "      wind country  city_id        date  \n",
       "0     7.58      PF  4030556  1643719764  \n",
       "1     3.44      BR  3471451  1643719765  \n",
       "2    18.45      AU  2075265  1643719766  \n",
       "3     9.22      CA  6185377  1643719727  \n",
       "4    15.39      JP  2112802  1643719767  \n",
       "..     ...     ...      ...         ...  \n",
       "555   4.61      MX  3520994  1643720071  \n",
       "556   3.44      AR  3838233  1643719832  \n",
       "557  14.72      RU  4031742  1643720072  \n",
       "558   3.44      US  5851349  1643720072  \n",
       "559   9.22      AU  2151437  1643719924  \n",
       "\n",
       "[560 rows x 11 columns]"
      ]
     },
     "execution_count": 7,
     "metadata": {},
     "output_type": "execute_result"
    }
   ],
   "source": [
    "city_weather_df = pd.DataFrame(all_rows)\n",
    "city_weather_df"
   ]
  },
  {
   "cell_type": "code",
   "execution_count": 8,
   "metadata": {},
   "outputs": [],
   "source": [
    "#Create Output File\n",
    "city_weather_df.to_csv(\"../output_data/final_cities_weather.csv\", encoding=\"utf-8\", index=False)"
   ]
  },
  {
   "cell_type": "markdown",
   "metadata": {},
   "source": [
    "## Inspect the data and remove the cities where the humidity > 100%.\n",
    "----\n",
    "Skip this step if there are no cities that have humidity > 100%. "
   ]
  },
  {
   "cell_type": "code",
   "execution_count": 9,
   "metadata": {},
   "outputs": [
    {
     "name": "stdout",
     "output_type": "stream",
     "text": [
      "Empty DataFrame\n",
      "Columns: [name, lat, lon, temp, humidity, temp_max, clouds, wind, country, city_id, date]\n",
      "Index: []\n"
     ]
    }
   ],
   "source": [
    "high_humidity_cities=city_weather_df.loc[(city_weather_df[\"humidity\"]>100),:]\n",
    "print(high_humidity_cities)"
   ]
  },
  {
   "cell_type": "markdown",
   "metadata": {},
   "source": [
    "## Plotting the Data\n",
    "* Use proper labeling of the plots using plot titles (including date of analysis) and axes labels.\n",
    "* Save the plotted figures as .pngs."
   ]
  },
  {
   "cell_type": "markdown",
   "metadata": {},
   "source": [
    "## Latitude vs. Temperature Plot"
   ]
  },
  {
   "cell_type": "code",
   "execution_count": 25,
   "metadata": {
    "scrolled": true
   },
   "outputs": [
    {
     "data": {
      "image/png": "[encoded data removed]",
      "text/plain": [
       "<Figure size 288x288 with 1 Axes>"
      ]
     },
     "metadata": {
      "needs_background": "light"
     },
     "output_type": "display_data"
    }
   ],
   "source": [
    "# Create a scatter plot which compares Latitude to Temporature\n",
    "city_weather_df.plot(kind=\"scatter\", x=\"lat\", y=\"temp\", grid=True, figsize=(4,4),\n",
    "              title=\"Latitude Vs. Tempurature: Feb 1, 2022\")\n",
    "plt.show()"
   ]
  },
  {
   "cell_type": "code",
   "execution_count": null,
   "metadata": {},
   "outputs": [],
   "source": [
    "#The above graph is plotting the Tempurature in Fahrenheit at the observed city's latitudes."
   ]
  },
  {
   "cell_type": "markdown",
   "metadata": {},
   "source": [
    "## Latitude vs. Humidity Plot"
   ]
  },
  {
   "cell_type": "code",
   "execution_count": 26,
   "metadata": {},
   "outputs": [
    {
     "data": {
      "image/png": "[encoded data removed]",
      "text/plain": [
       "<Figure size 288x288 with 1 Axes>"
      ]
     },
     "metadata": {
      "needs_background": "light"
     },
     "output_type": "display_data"
    }
   ],
   "source": [
    "# Create a scatter plot which compares Latitude to Humidity\n",
    "city_weather_df.plot(kind=\"scatter\", x=\"lat\", y=\"humidity\", grid=True, figsize=(4,4),\n",
    "              title=\"Latitude Vs. Humidity: Feb 1, 2022\")\n",
    "plt.show()"
   ]
  },
  {
   "cell_type": "markdown",
   "metadata": {},
   "source": [
    "#The above graph is plotting the Humidity at the observed city's latitudes."
   ]
  },
  {
   "cell_type": "markdown",
   "metadata": {},
   "source": [
    "## Latitude vs. Cloudiness Plot"
   ]
  },
  {
   "cell_type": "code",
   "execution_count": 27,
   "metadata": {},
   "outputs": [
    {
     "data": {
      "image/png": "[encoded data removed]",
      "text/plain": [
       "<Figure size 288x288 with 1 Axes>"
      ]
     },
     "metadata": {
      "needs_background": "light"
     },
     "output_type": "display_data"
    }
   ],
   "source": [
    "# Create a scatter plot which compares Latitude to Cloudiness\n",
    "city_weather_df.plot(kind=\"scatter\", x=\"lat\", y=\"clouds\", grid=True, figsize=(4,4),\n",
    "              title=\"Latitude Vs. Cloudiness: Feb 1, 2022\")\n",
    "plt.show()"
   ]
  },
  {
   "cell_type": "markdown",
   "metadata": {},
   "source": [
    "#The above graph is plotting the percentage of cloudiness at the observed city's latitudes."
   ]
  },
  {
   "cell_type": "markdown",
   "metadata": {},
   "source": [
    "## Latitude vs. Wind Speed Plot"
   ]
  },
  {
   "cell_type": "code",
   "execution_count": 28,
   "metadata": {
    "scrolled": true
   },
   "outputs": [
    {
     "data": {
      "image/png": "[encoded data removed]",
      "text/plain": [
       "<Figure size 288x288 with 1 Axes>"
      ]
     },
     "metadata": {
      "needs_background": "light"
     },
     "output_type": "display_data"
    }
   ],
   "source": [
    "# Create a scatter plot which compares Latitude to Wind Speed\n",
    "city_weather_df.plot(kind=\"scatter\", x=\"lat\", y=\"wind\", grid=True, figsize=(4,4),\n",
    "              title=\"Latitude Vs. Wind Speed:  Feb 1, 2022\")\n",
    "plt.show()"
   ]
  },
  {
   "cell_type": "markdown",
   "metadata": {},
   "source": [
    "#The above graph is plotting the Wind Speeds in miles per hour at the observed city's latitudes."
   ]
  },
  {
   "cell_type": "markdown",
   "metadata": {},
   "source": [
    "## Linear Regression"
   ]
  },
  {
   "cell_type": "code",
   "execution_count": 14,
   "metadata": {},
   "outputs": [
    {
     "data": {
      "text/html": [
       "<div>\n",
       "<style scoped>\n",
       "    .dataframe tbody tr th:only-of-type {\n",
       "        vertical-align: middle;\n",
       "    }\n",
       "\n",
       "    .dataframe tbody tr th {\n",
       "        vertical-align: top;\n",
       "    }\n",
       "\n",
       "    .dataframe thead th {\n",
       "        text-align: right;\n",
       "    }\n",
       "</style>\n",
       "<table border=\"1\" class=\"dataframe\">\n",
       "  <thead>\n",
       "    <tr style=\"text-align: right;\">\n",
       "      <th></th>\n",
       "      <th>name</th>\n",
       "      <th>lat</th>\n",
       "      <th>lon</th>\n",
       "      <th>temp</th>\n",
       "      <th>humidity</th>\n",
       "      <th>temp_max</th>\n",
       "      <th>clouds</th>\n",
       "      <th>wind</th>\n",
       "      <th>country</th>\n",
       "      <th>city_id</th>\n",
       "      <th>date</th>\n",
       "    </tr>\n",
       "  </thead>\n",
       "  <tbody>\n",
       "    <tr>\n",
       "      <th>3</th>\n",
       "      <td>yellowknife</td>\n",
       "      <td>62.4560</td>\n",
       "      <td>-114.3525</td>\n",
       "      <td>-23.15</td>\n",
       "      <td>76</td>\n",
       "      <td>-22.45</td>\n",
       "      <td>20</td>\n",
       "      <td>9.22</td>\n",
       "      <td>CA</td>\n",
       "      <td>6185377</td>\n",
       "      <td>1643719727</td>\n",
       "    </tr>\n",
       "    <tr>\n",
       "      <th>4</th>\n",
       "      <td>hasaki</td>\n",
       "      <td>35.7333</td>\n",
       "      <td>140.8333</td>\n",
       "      <td>32.40</td>\n",
       "      <td>48</td>\n",
       "      <td>32.40</td>\n",
       "      <td>1</td>\n",
       "      <td>15.39</td>\n",
       "      <td>JP</td>\n",
       "      <td>2112802</td>\n",
       "      <td>1643719767</td>\n",
       "    </tr>\n",
       "    <tr>\n",
       "      <th>5</th>\n",
       "      <td>turukhansk</td>\n",
       "      <td>65.8167</td>\n",
       "      <td>87.9833</td>\n",
       "      <td>10.71</td>\n",
       "      <td>94</td>\n",
       "      <td>10.71</td>\n",
       "      <td>100</td>\n",
       "      <td>10.89</td>\n",
       "      <td>RU</td>\n",
       "      <td>1488903</td>\n",
       "      <td>1643719768</td>\n",
       "    </tr>\n",
       "    <tr>\n",
       "      <th>6</th>\n",
       "      <td>anadyr</td>\n",
       "      <td>64.7500</td>\n",
       "      <td>177.4833</td>\n",
       "      <td>18.10</td>\n",
       "      <td>79</td>\n",
       "      <td>18.10</td>\n",
       "      <td>20</td>\n",
       "      <td>40.26</td>\n",
       "      <td>RU</td>\n",
       "      <td>2127202</td>\n",
       "      <td>1643719769</td>\n",
       "    </tr>\n",
       "    <tr>\n",
       "      <th>7</th>\n",
       "      <td>kavaratti</td>\n",
       "      <td>10.5669</td>\n",
       "      <td>72.6420</td>\n",
       "      <td>81.12</td>\n",
       "      <td>69</td>\n",
       "      <td>81.12</td>\n",
       "      <td>5</td>\n",
       "      <td>9.60</td>\n",
       "      <td>IN</td>\n",
       "      <td>1267390</td>\n",
       "      <td>1643719769</td>\n",
       "    </tr>\n",
       "    <tr>\n",
       "      <th>...</th>\n",
       "      <td>...</td>\n",
       "      <td>...</td>\n",
       "      <td>...</td>\n",
       "      <td>...</td>\n",
       "      <td>...</td>\n",
       "      <td>...</td>\n",
       "      <td>...</td>\n",
       "      <td>...</td>\n",
       "      <td>...</td>\n",
       "      <td>...</td>\n",
       "      <td>...</td>\n",
       "    </tr>\n",
       "    <tr>\n",
       "      <th>553</th>\n",
       "      <td>horki</td>\n",
       "      <td>54.2861</td>\n",
       "      <td>30.9842</td>\n",
       "      <td>26.58</td>\n",
       "      <td>93</td>\n",
       "      <td>26.58</td>\n",
       "      <td>100</td>\n",
       "      <td>11.86</td>\n",
       "      <td>BY</td>\n",
       "      <td>627905</td>\n",
       "      <td>1643720070</td>\n",
       "    </tr>\n",
       "    <tr>\n",
       "      <th>554</th>\n",
       "      <td>dourbali</td>\n",
       "      <td>11.8091</td>\n",
       "      <td>15.8632</td>\n",
       "      <td>82.38</td>\n",
       "      <td>10</td>\n",
       "      <td>82.38</td>\n",
       "      <td>4</td>\n",
       "      <td>4.81</td>\n",
       "      <td>TD</td>\n",
       "      <td>2433055</td>\n",
       "      <td>1643720071</td>\n",
       "    </tr>\n",
       "    <tr>\n",
       "      <th>555</th>\n",
       "      <td>puerto escondido</td>\n",
       "      <td>15.8500</td>\n",
       "      <td>-97.0667</td>\n",
       "      <td>70.63</td>\n",
       "      <td>88</td>\n",
       "      <td>70.63</td>\n",
       "      <td>0</td>\n",
       "      <td>4.61</td>\n",
       "      <td>MX</td>\n",
       "      <td>3520994</td>\n",
       "      <td>1643720071</td>\n",
       "    </tr>\n",
       "    <tr>\n",
       "      <th>557</th>\n",
       "      <td>egvekinot</td>\n",
       "      <td>66.3167</td>\n",
       "      <td>-179.1667</td>\n",
       "      <td>-0.81</td>\n",
       "      <td>67</td>\n",
       "      <td>-0.81</td>\n",
       "      <td>100</td>\n",
       "      <td>14.72</td>\n",
       "      <td>RU</td>\n",
       "      <td>4031742</td>\n",
       "      <td>1643720072</td>\n",
       "    </tr>\n",
       "    <tr>\n",
       "      <th>558</th>\n",
       "      <td>nanakuli</td>\n",
       "      <td>21.3906</td>\n",
       "      <td>-158.1547</td>\n",
       "      <td>68.04</td>\n",
       "      <td>88</td>\n",
       "      <td>73.35</td>\n",
       "      <td>0</td>\n",
       "      <td>3.44</td>\n",
       "      <td>US</td>\n",
       "      <td>5851349</td>\n",
       "      <td>1643720072</td>\n",
       "    </tr>\n",
       "  </tbody>\n",
       "</table>\n",
       "<p>380 rows × 11 columns</p>\n",
       "</div>"
      ],
      "text/plain": [
       "                 name      lat       lon   temp  humidity  temp_max  clouds  \\\n",
       "3         yellowknife  62.4560 -114.3525 -23.15        76    -22.45      20   \n",
       "4              hasaki  35.7333  140.8333  32.40        48     32.40       1   \n",
       "5          turukhansk  65.8167   87.9833  10.71        94     10.71     100   \n",
       "6              anadyr  64.7500  177.4833  18.10        79     18.10      20   \n",
       "7           kavaratti  10.5669   72.6420  81.12        69     81.12       5   \n",
       "..                ...      ...       ...    ...       ...       ...     ...   \n",
       "553             horki  54.2861   30.9842  26.58        93     26.58     100   \n",
       "554          dourbali  11.8091   15.8632  82.38        10     82.38       4   \n",
       "555  puerto escondido  15.8500  -97.0667  70.63        88     70.63       0   \n",
       "557         egvekinot  66.3167 -179.1667  -0.81        67     -0.81     100   \n",
       "558          nanakuli  21.3906 -158.1547  68.04        88     73.35       0   \n",
       "\n",
       "      wind country  city_id        date  \n",
       "3     9.22      CA  6185377  1643719727  \n",
       "4    15.39      JP  2112802  1643719767  \n",
       "5    10.89      RU  1488903  1643719768  \n",
       "6    40.26      RU  2127202  1643719769  \n",
       "7     9.60      IN  1267390  1643719769  \n",
       "..     ...     ...      ...         ...  \n",
       "553  11.86      BY   627905  1643720070  \n",
       "554   4.81      TD  2433055  1643720071  \n",
       "555   4.61      MX  3520994  1643720071  \n",
       "557  14.72      RU  4031742  1643720072  \n",
       "558   3.44      US  5851349  1643720072  \n",
       "\n",
       "[380 rows x 11 columns]"
      ]
     },
     "execution_count": 14,
     "metadata": {},
     "output_type": "execute_result"
    }
   ],
   "source": [
    "#Create DataFrames for Northern Hemisphere and Southern Hemisphere\n",
    "\n",
    "Northern_df = city_weather_df.loc[(city_weather_df[\"lat\"]>0),:]\n",
    "Northern_df"
   ]
  },
  {
   "cell_type": "code",
   "execution_count": 16,
   "metadata": {
    "scrolled": true
   },
   "outputs": [
    {
     "data": {
      "text/html": [
       "<div>\n",
       "<style scoped>\n",
       "    .dataframe tbody tr th:only-of-type {\n",
       "        vertical-align: middle;\n",
       "    }\n",
       "\n",
       "    .dataframe tbody tr th {\n",
       "        vertical-align: top;\n",
       "    }\n",
       "\n",
       "    .dataframe thead th {\n",
       "        text-align: right;\n",
       "    }\n",
       "</style>\n",
       "<table border=\"1\" class=\"dataframe\">\n",
       "  <thead>\n",
       "    <tr style=\"text-align: right;\">\n",
       "      <th></th>\n",
       "      <th>name</th>\n",
       "      <th>lat</th>\n",
       "      <th>lon</th>\n",
       "      <th>temp</th>\n",
       "      <th>humidity</th>\n",
       "      <th>temp_max</th>\n",
       "      <th>clouds</th>\n",
       "      <th>wind</th>\n",
       "      <th>country</th>\n",
       "      <th>city_id</th>\n",
       "      <th>date</th>\n",
       "    </tr>\n",
       "  </thead>\n",
       "  <tbody>\n",
       "    <tr>\n",
       "      <th>0</th>\n",
       "      <td>rikitea</td>\n",
       "      <td>-23.1203</td>\n",
       "      <td>-134.9692</td>\n",
       "      <td>77.83</td>\n",
       "      <td>68</td>\n",
       "      <td>77.83</td>\n",
       "      <td>87</td>\n",
       "      <td>7.58</td>\n",
       "      <td>PF</td>\n",
       "      <td>4030556</td>\n",
       "      <td>1643719764</td>\n",
       "    </tr>\n",
       "    <tr>\n",
       "      <th>1</th>\n",
       "      <td>arraial do cabo</td>\n",
       "      <td>-22.9661</td>\n",
       "      <td>-42.0278</td>\n",
       "      <td>82.26</td>\n",
       "      <td>78</td>\n",
       "      <td>82.36</td>\n",
       "      <td>75</td>\n",
       "      <td>3.44</td>\n",
       "      <td>BR</td>\n",
       "      <td>3471451</td>\n",
       "      <td>1643719765</td>\n",
       "    </tr>\n",
       "    <tr>\n",
       "      <th>2</th>\n",
       "      <td>busselton</td>\n",
       "      <td>-33.6500</td>\n",
       "      <td>115.3333</td>\n",
       "      <td>68.04</td>\n",
       "      <td>42</td>\n",
       "      <td>68.04</td>\n",
       "      <td>0</td>\n",
       "      <td>18.45</td>\n",
       "      <td>AU</td>\n",
       "      <td>2075265</td>\n",
       "      <td>1643719766</td>\n",
       "    </tr>\n",
       "    <tr>\n",
       "      <th>8</th>\n",
       "      <td>samfya</td>\n",
       "      <td>-11.3649</td>\n",
       "      <td>29.5565</td>\n",
       "      <td>76.98</td>\n",
       "      <td>69</td>\n",
       "      <td>76.98</td>\n",
       "      <td>74</td>\n",
       "      <td>0.67</td>\n",
       "      <td>ZM</td>\n",
       "      <td>899274</td>\n",
       "      <td>1643719770</td>\n",
       "    </tr>\n",
       "    <tr>\n",
       "      <th>9</th>\n",
       "      <td>port elizabeth</td>\n",
       "      <td>-33.9180</td>\n",
       "      <td>25.5701</td>\n",
       "      <td>86.29</td>\n",
       "      <td>58</td>\n",
       "      <td>92.10</td>\n",
       "      <td>40</td>\n",
       "      <td>11.50</td>\n",
       "      <td>ZA</td>\n",
       "      <td>964420</td>\n",
       "      <td>1643719770</td>\n",
       "    </tr>\n",
       "    <tr>\n",
       "      <th>...</th>\n",
       "      <td>...</td>\n",
       "      <td>...</td>\n",
       "      <td>...</td>\n",
       "      <td>...</td>\n",
       "      <td>...</td>\n",
       "      <td>...</td>\n",
       "      <td>...</td>\n",
       "      <td>...</td>\n",
       "      <td>...</td>\n",
       "      <td>...</td>\n",
       "      <td>...</td>\n",
       "    </tr>\n",
       "    <tr>\n",
       "      <th>545</th>\n",
       "      <td>chiradzulu</td>\n",
       "      <td>-15.6746</td>\n",
       "      <td>35.1407</td>\n",
       "      <td>74.91</td>\n",
       "      <td>73</td>\n",
       "      <td>74.91</td>\n",
       "      <td>77</td>\n",
       "      <td>5.88</td>\n",
       "      <td>MW</td>\n",
       "      <td>930580</td>\n",
       "      <td>1643720066</td>\n",
       "    </tr>\n",
       "    <tr>\n",
       "      <th>547</th>\n",
       "      <td>porto velho</td>\n",
       "      <td>-8.7619</td>\n",
       "      <td>-63.9039</td>\n",
       "      <td>77.05</td>\n",
       "      <td>88</td>\n",
       "      <td>77.05</td>\n",
       "      <td>40</td>\n",
       "      <td>4.61</td>\n",
       "      <td>BR</td>\n",
       "      <td>3662762</td>\n",
       "      <td>1643720008</td>\n",
       "    </tr>\n",
       "    <tr>\n",
       "      <th>550</th>\n",
       "      <td>fare</td>\n",
       "      <td>-16.7000</td>\n",
       "      <td>-151.0167</td>\n",
       "      <td>80.31</td>\n",
       "      <td>76</td>\n",
       "      <td>80.31</td>\n",
       "      <td>5</td>\n",
       "      <td>18.05</td>\n",
       "      <td>PF</td>\n",
       "      <td>4034496</td>\n",
       "      <td>1643720069</td>\n",
       "    </tr>\n",
       "    <tr>\n",
       "      <th>556</th>\n",
       "      <td>salta</td>\n",
       "      <td>-24.7859</td>\n",
       "      <td>-65.4117</td>\n",
       "      <td>68.20</td>\n",
       "      <td>75</td>\n",
       "      <td>70.57</td>\n",
       "      <td>40</td>\n",
       "      <td>3.44</td>\n",
       "      <td>AR</td>\n",
       "      <td>3838233</td>\n",
       "      <td>1643719832</td>\n",
       "    </tr>\n",
       "    <tr>\n",
       "      <th>559</th>\n",
       "      <td>rockhampton</td>\n",
       "      <td>-23.3833</td>\n",
       "      <td>150.5000</td>\n",
       "      <td>80.49</td>\n",
       "      <td>78</td>\n",
       "      <td>80.49</td>\n",
       "      <td>100</td>\n",
       "      <td>9.22</td>\n",
       "      <td>AU</td>\n",
       "      <td>2151437</td>\n",
       "      <td>1643719924</td>\n",
       "    </tr>\n",
       "  </tbody>\n",
       "</table>\n",
       "<p>180 rows × 11 columns</p>\n",
       "</div>"
      ],
      "text/plain": [
       "                name      lat       lon   temp  humidity  temp_max  clouds  \\\n",
       "0            rikitea -23.1203 -134.9692  77.83        68     77.83      87   \n",
       "1    arraial do cabo -22.9661  -42.0278  82.26        78     82.36      75   \n",
       "2          busselton -33.6500  115.3333  68.04        42     68.04       0   \n",
       "8             samfya -11.3649   29.5565  76.98        69     76.98      74   \n",
       "9     port elizabeth -33.9180   25.5701  86.29        58     92.10      40   \n",
       "..               ...      ...       ...    ...       ...       ...     ...   \n",
       "545       chiradzulu -15.6746   35.1407  74.91        73     74.91      77   \n",
       "547      porto velho  -8.7619  -63.9039  77.05        88     77.05      40   \n",
       "550             fare -16.7000 -151.0167  80.31        76     80.31       5   \n",
       "556            salta -24.7859  -65.4117  68.20        75     70.57      40   \n",
       "559      rockhampton -23.3833  150.5000  80.49        78     80.49     100   \n",
       "\n",
       "      wind country  city_id        date  \n",
       "0     7.58      PF  4030556  1643719764  \n",
       "1     3.44      BR  3471451  1643719765  \n",
       "2    18.45      AU  2075265  1643719766  \n",
       "8     0.67      ZM   899274  1643719770  \n",
       "9    11.50      ZA   964420  1643719770  \n",
       "..     ...     ...      ...         ...  \n",
       "545   5.88      MW   930580  1643720066  \n",
       "547   4.61      BR  3662762  1643720008  \n",
       "550  18.05      PF  4034496  1643720069  \n",
       "556   3.44      AR  3838233  1643719832  \n",
       "559   9.22      AU  2151437  1643719924  \n",
       "\n",
       "[180 rows x 11 columns]"
      ]
     },
     "execution_count": 16,
     "metadata": {},
     "output_type": "execute_result"
    }
   ],
   "source": [
    "Southern_df = city_weather_df.loc[(city_weather_df[\"lat\"]<0),:]\n",
    "Southern_df"
   ]
  },
  {
   "cell_type": "markdown",
   "metadata": {},
   "source": [
    "####  Southern Hemisphere - Max Temp vs. Latitude Linear Regression"
   ]
  },
  {
   "cell_type": "code",
   "execution_count": 17,
   "metadata": {
    "scrolled": false
   },
   "outputs": [
    {
     "name": "stdout",
     "output_type": "stream",
     "text": [
      "The r-squared is: 0.2577139479682782\n"
     ]
    },
    {
     "data": {
      "image/png": "[encoded data removed]",
      "text/plain": [
       "<Figure size 432x288 with 1 Axes>"
      ]
     },
     "metadata": {
      "needs_background": "light"
     },
     "output_type": "display_data"
    }
   ],
   "source": [
    "\n",
    "x_values = Southern_df['lat']\n",
    "y_values = Southern_df['temp_max']\n",
    "(slope, intercept, rvalue, pvalue, stderr) = linregress(x_values, y_values)\n",
    "regress_values = x_values * slope + intercept\n",
    "line_eq = \"y = \" + str(round(slope,2)) + \"x + \" + str(round(intercept,2))\n",
    "plt.scatter(x_values,y_values)\n",
    "plt.plot(x_values,regress_values,\"r-\")\n",
    "plt.annotate(line_eq,(6,10),fontsize=15,color=\"red\")\n",
    "plt.xlabel('Latitiude')\n",
    "plt.ylabel('Maximum Tempurature (F)')\n",
    "print(f\"The r-squared is: {rvalue**2}\")\n",
    "plt.show()"
   ]
  },
  {
   "cell_type": "markdown",
   "metadata": {},
   "source": [
    "#Northern Hemisphere - Max Temp vs. Latitude Linear Regression"
   ]
  },
  {
   "cell_type": "code",
   "execution_count": 18,
   "metadata": {},
   "outputs": [
    {
     "name": "stdout",
     "output_type": "stream",
     "text": [
      "The r-squared is: 0.7404673571125754\n"
     ]
    },
    {
     "data": {
      "image/png": "[encoded data removed]",
      "text/plain": [
       "<Figure size 432x288 with 1 Axes>"
      ]
     },
     "metadata": {
      "needs_background": "light"
     },
     "output_type": "display_data"
    }
   ],
   "source": [
    "x_values = Northern_df['lat']\n",
    "y_values = Northern_df['temp_max']\n",
    "(slope, intercept, rvalue, pvalue, stderr) = linregress(x_values, y_values)\n",
    "regress_values = x_values * slope + intercept\n",
    "line_eq = \"y = \" + str(round(slope,2)) + \"x + \" + str(round(intercept,2))\n",
    "plt.scatter(x_values,y_values)\n",
    "plt.plot(x_values,regress_values,\"r-\")\n",
    "plt.annotate(line_eq,(6,10),fontsize=15,color=\"red\")\n",
    "plt.xlabel('Latitiude')\n",
    "plt.ylabel('Maximum Tempurature (F)')\n",
    "print(f\"The r-squared is: {rvalue**2}\")\n",
    "plt.show()"
   ]
  },
  {
   "cell_type": "markdown",
   "metadata": {},
   "source": [
    "####  Northern Hemisphere - Humidity (%) vs. Latitude Linear Regression"
   ]
  },
  {
   "cell_type": "code",
   "execution_count": 19,
   "metadata": {
    "scrolled": false
   },
   "outputs": [
    {
     "name": "stdout",
     "output_type": "stream",
     "text": [
      "The r-squared is: 0.1612349639018104\n"
     ]
    },
    {
     "data": {
      "image/png": "[encoded data removed]",
      "text/plain": [
       "<Figure size 432x288 with 1 Axes>"
      ]
     },
     "metadata": {
      "needs_background": "light"
     },
     "output_type": "display_data"
    }
   ],
   "source": [
    "\n",
    "x_values = Northern_df['lat']\n",
    "y_values = Northern_df['humidity']\n",
    "(slope, intercept, rvalue, pvalue, stderr) = linregress(x_values, y_values)\n",
    "regress_values = x_values * slope + intercept\n",
    "line_eq = \"y = \" + str(round(slope,2)) + \"x + \" + str(round(intercept,2))\n",
    "plt.scatter(x_values,y_values)\n",
    "plt.plot(x_values,regress_values,\"r-\")\n",
    "plt.annotate(line_eq,(6,10),fontsize=15,color=\"red\")\n",
    "plt.xlabel('Latitiude')\n",
    "plt.ylabel('Humidity %')\n",
    "print(f\"The r-squared is: {rvalue**2}\")\n",
    "plt.show()"
   ]
  },
  {
   "cell_type": "markdown",
   "metadata": {},
   "source": [
    "####  Southern Hemisphere - Humidity (%) vs. Latitude Linear Regression"
   ]
  },
  {
   "cell_type": "code",
   "execution_count": 20,
   "metadata": {},
   "outputs": [
    {
     "name": "stdout",
     "output_type": "stream",
     "text": [
      "The r-squared is: 0.09749241662694325\n"
     ]
    },
    {
     "data": {
      "image/png": "[encoded data removed]",
      "text/plain": [
       "<Figure size 432x288 with 1 Axes>"
      ]
     },
     "metadata": {
      "needs_background": "light"
     },
     "output_type": "display_data"
    }
   ],
   "source": [
    "\n",
    "x_values = Southern_df['lat']\n",
    "y_values = Southern_df['humidity']\n",
    "(slope, intercept, rvalue, pvalue, stderr) = linregress(x_values, y_values)\n",
    "regress_values = x_values * slope + intercept\n",
    "line_eq = \"y = \" + str(round(slope,2)) + \"x + \" + str(round(intercept,2))\n",
    "plt.scatter(x_values,y_values)\n",
    "plt.plot(x_values,regress_values,\"r-\")\n",
    "plt.annotate(line_eq,(6,10),fontsize=15,color=\"red\")\n",
    "plt.xlabel('Latitiude')\n",
    "plt.ylabel('Humidity %')\n",
    "print(f\"The r-squared is: {rvalue**2}\")\n",
    "plt.show()"
   ]
  },
  {
   "cell_type": "markdown",
   "metadata": {},
   "source": [
    "####  Northern Hemisphere - Cloudiness (%) vs. Latitude Linear Regression"
   ]
  },
  {
   "cell_type": "code",
   "execution_count": 21,
   "metadata": {},
   "outputs": [
    {
     "name": "stdout",
     "output_type": "stream",
     "text": [
      "The r-squared is: 0.08876174800183788\n"
     ]
    },
    {
     "data": {
      "image/png": "[encoded data removed]",
      "text/plain": [
       "<Figure size 432x288 with 1 Axes>"
      ]
     },
     "metadata": {
      "needs_background": "light"
     },
     "output_type": "display_data"
    }
   ],
   "source": [
    "\n",
    "x_values = Northern_df['lat']\n",
    "y_values = Northern_df['clouds']\n",
    "(slope, intercept, rvalue, pvalue, stderr) = linregress(x_values, y_values)\n",
    "regress_values = x_values * slope + intercept\n",
    "line_eq = \"y = \" + str(round(slope,2)) + \"x + \" + str(round(intercept,2))\n",
    "plt.scatter(x_values,y_values)\n",
    "plt.plot(x_values,regress_values,\"r-\")\n",
    "plt.annotate(line_eq,(6,10),fontsize=15,color=\"red\")\n",
    "plt.xlabel('Latitiude')\n",
    "plt.ylabel('Cloudiness %')\n",
    "print(f\"The r-squared is: {rvalue**2}\")\n",
    "plt.show()"
   ]
  },
  {
   "cell_type": "markdown",
   "metadata": {},
   "source": [
    "####  Southern Hemisphere - Cloudiness (%) vs. Latitude Linear Regression"
   ]
  },
  {
   "cell_type": "code",
   "execution_count": 22,
   "metadata": {},
   "outputs": [
    {
     "name": "stdout",
     "output_type": "stream",
     "text": [
      "The r-squared is: 0.08465021242793831\n"
     ]
    },
    {
     "data": {
      "image/png": "[encoded data removed]",
      "text/plain": [
       "<Figure size 432x288 with 1 Axes>"
      ]
     },
     "metadata": {
      "needs_background": "light"
     },
     "output_type": "display_data"
    }
   ],
   "source": [
    "\n",
    "x_values = Southern_df['lat']\n",
    "y_values = Southern_df['clouds']\n",
    "(slope, intercept, rvalue, pvalue, stderr) = linregress(x_values, y_values)\n",
    "regress_values = x_values * slope + intercept\n",
    "line_eq = \"y = \" + str(round(slope,2)) + \"x + \" + str(round(intercept,2))\n",
    "plt.scatter(x_values,y_values)\n",
    "plt.plot(x_values,regress_values,\"r-\")\n",
    "plt.annotate(line_eq,(6,10),fontsize=15,color=\"red\")\n",
    "plt.xlabel('Latitiude')\n",
    "plt.ylabel('Cloudiness %')\n",
    "print(f\"The r-squared is: {rvalue**2}\")\n",
    "plt.show()"
   ]
  },
  {
   "cell_type": "markdown",
   "metadata": {},
   "source": [
    "####  Northern Hemisphere - Wind Speed (mph) vs. Latitude Linear Regression"
   ]
  },
  {
   "cell_type": "code",
   "execution_count": 23,
   "metadata": {},
   "outputs": [
    {
     "name": "stdout",
     "output_type": "stream",
     "text": [
      "The r-squared is: 0.00455982601260782\n"
     ]
    },
    {
     "data": {
      "image/png": "[encoded data removed]",
      "text/plain": [
       "<Figure size 432x288 with 1 Axes>"
      ]
     },
     "metadata": {
      "needs_background": "light"
     },
     "output_type": "display_data"
    }
   ],
   "source": [
    "\n",
    "x_values = Northern_df['lat']\n",
    "y_values = Northern_df['wind']\n",
    "(slope, intercept, rvalue, pvalue, stderr) = linregress(x_values, y_values)\n",
    "regress_values = x_values * slope + intercept\n",
    "line_eq = \"y = \" + str(round(slope,2)) + \"x + \" + str(round(intercept,2))\n",
    "plt.scatter(x_values,y_values)\n",
    "plt.plot(x_values,regress_values,\"r-\")\n",
    "plt.annotate(line_eq,(6,10),fontsize=15,color=\"red\")\n",
    "plt.xlabel('Latitiude')\n",
    "plt.ylabel('Wind Speed (mph)')\n",
    "print(f\"The r-squared is: {rvalue**2}\")\n",
    "plt.show()"
   ]
  },
  {
   "cell_type": "markdown",
   "metadata": {},
   "source": [
    "####  Southern Hemisphere - Wind Speed (mph) vs. Latitude Linear Regression"
   ]
  },
  {
   "cell_type": "code",
   "execution_count": 24,
   "metadata": {},
   "outputs": [
    {
     "name": "stdout",
     "output_type": "stream",
     "text": [
      "The r-squared is: 0.12278669956109499\n"
     ]
    },
    {
     "data": {
      "image/png": "[encoded data removed]",
      "text/plain": [
       "<Figure size 432x288 with 1 Axes>"
      ]
     },
     "metadata": {
      "needs_background": "light"
     },
     "output_type": "display_data"
    }
   ],
   "source": [
    "\n",
    "x_values = Southern_df['lat']\n",
    "y_values = Southern_df['wind']\n",
    "(slope, intercept, rvalue, pvalue, stderr) = linregress(x_values, y_values)\n",
    "regress_values = x_values * slope + intercept\n",
    "line_eq = \"y = \" + str(round(slope,2)) + \"x + \" + str(round(intercept,2))\n",
    "plt.scatter(x_values,y_values)\n",
    "plt.plot(x_values,regress_values,\"r-\")\n",
    "plt.annotate(line_eq,(6,10),fontsize=15,color=\"red\")\n",
    "plt.xlabel('Latitiude')\n",
    "plt.ylabel('Wind Speed (mph)')\n",
    "print(f\"The r-squared is: {rvalue**2}\")\n",
    "plt.show()"
   ]
  }
 ],
 "metadata": {
  "anaconda-cloud": {},
  "kernel_info": {
   "name": "python3"
  },
  "kernelspec": {
   "display_name": "Python 3",
   "language": "python",
   "name": "python3"
  },
  "language_info": {
   "codemirror_mode": {
    "name": "ipython",
    "version": 3
   },
   "file_extension": ".py",
   "mimetype": "text/x-python",
   "name": "python",
   "nbconvert_exporter": "python",
   "pygments_lexer": "ipython3",
   "version": "3.8.8"
  },
  "latex_envs": {
   "LaTeX_envs_menu_present": true,
   "autoclose": false,
   "autocomplete": true,
   "bibliofile": "biblio.bib",
   "cite_by": "apalike",
   "current_citInitial": 1,
   "eqLabelWithNumbers": true,
   "eqNumInitial": 1,
   "hotkeys": {
    "equation": "Ctrl-E",
    "itemize": "Ctrl-I"
   },
   "labels_anchors": false,
   "latex_user_defs": false,
   "report_style_numbering": false,
   "user_envs_cfg": false
  },
  "nteract": {
   "version": "0.12.3"
  }
 },
 "nbformat": 4,
 "nbformat_minor": 2
}
